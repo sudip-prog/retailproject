{
 "cells": [
  {
   "cell_type": "code",
   "execution_count": 0,
   "metadata": {
    "application/vnd.databricks.v1+cell": {
     "cellMetadata": {
      "byteLimit": 2048000,
      "rowLimit": 10000
     },
     "inputWidgets": {},
     "nuid": "262796e1-2abb-4b09-b906-8de3f4244920",
     "showTitle": false,
     "tableResultSettingsMap": {},
     "title": ""
    }
   },
   "outputs": [],
   "source": [
    "from pyspark.sql import SparkSession\n",
    "from pyspark.sql.functions import col, sum as _sum, avg, count, countDistinct, min as _min, month, year, current_date`\n",
    "\n",
    "\n",
    "customers_df = spark.read.format(\"delta\").load(\"abfss://retailstream360@storageaccountsudip1.dfs.core.windows.net/silver/customers/\")\n",
    "products_df = spark.read.format(\"delta\").load(\"abfss://retailstream360@storageaccountsudip1.dfs.core.windows.net/silver/products/\")\n",
    "orders_df = spark.read.table(\"retail_catalog.silver.orders\")\n",
    "transactions_df = spark.read.table(\"retail_catalog.silver.transactions\")"
   ]
  },
  {
   "cell_type": "code",
   "execution_count": 0,
   "metadata": {
    "application/vnd.databricks.v1+cell": {
     "cellMetadata": {
      "byteLimit": 2048000,
      "rowLimit": 10000
     },
     "inputWidgets": {},
     "nuid": "acde5c1e-01a0-4e6b-98e9-ce7e8c950e81",
     "showTitle": false,
     "tableResultSettingsMap": {},
     "title": ""
    }
   },
   "outputs": [],
   "source": [
    "from pyspark.sql.functions import round\n",
    "transactions_df=transactions_df.withColumn(\"total_price\", round(col(\"price\") * col(\"quantity\"), 2))\n",
    "transactions_df.display()"
   ]
  },
  {
   "cell_type": "code",
   "execution_count": 0,
   "metadata": {
    "application/vnd.databricks.v1+cell": {
     "cellMetadata": {
      "byteLimit": 2048000,
      "rowLimit": 10000
     },
     "inputWidgets": {},
     "nuid": "fa74eae7-f3a6-4e73-9bd2-bbbaf8215a9f",
     "showTitle": false,
     "tableResultSettingsMap": {},
     "title": ""
    }
   },
   "outputs": [],
   "source": [
    "transactions_df.join(orders_df, \"order_id\") \\\n",
    "    .groupBy(\"customer_id\").agg(_sum(\"total_price\").alias(\"customer_revenue\")).display()"
   ]
  },
  {
   "cell_type": "code",
   "execution_count": 0,
   "metadata": {
    "application/vnd.databricks.v1+cell": {
     "cellMetadata": {},
     "inputWidgets": {},
     "nuid": "f41017a4-ff7e-40c5-9c20-6bcd2d49d991",
     "showTitle": false,
     "tableResultSettingsMap": {},
     "title": ""
    }
   },
   "outputs": [],
   "source": [
    "total_revenue_df = transactions_df.agg(_sum(\"total_price\").alias(\"total_revenue\"))\n",
    "\n",
    "revenue_by_product_df = revenue_by_product_df = transactions_df.groupBy(\"product_id\").agg(_sum(\"total_price\").alias(\"revenue\"))\n",
    "\n",
    "revenue_by_category_df = transactions_df.join(products_df, \"product_id\").groupBy(\"category\").agg(_sum(\"total_price\").alias(\"revenue\"))\n",
    "\n",
    "revenue_by_day_df = transactions_df.groupBy(\"transaction_date\").agg(_sum(\"total_price\").alias(\"daily_revenue\"))\n",
    "\n",
    "revenue_by_customer_df = transactions_df.join(orders_df, \"order_id\") \\\n",
    "    .groupBy(\"customer_id\").agg(_sum(\"total_price\").alias(\"customer_revenue\"))\n",
    "\n",
    "revenue_per_order_df = transactions_df.withColumn(\"total_price\", col(\"price\") * col(\"quantity\")) \\\n",
    "    .groupBy(\"order_id\").agg(_sum(\"total_price\").alias(\"order_revenue\"))\n",
    "\n",
    "aov_df = revenue_per_order_df.agg(avg(\"order_revenue\").alias(\"average_order_value\"))"
   ]
  }
 ],
 "metadata": {
  "application/vnd.databricks.v1+notebook": {
   "computePreferences": null,
   "dashboards": [],
   "environmentMetadata": {
    "base_environment": "",
    "environment_version": "2"
   },
   "inputWidgetPreferences": null,
   "language": "python",
   "notebookMetadata": {
    "pythonIndentUnit": 4
   },
   "notebookName": "sample",
   "widgets": {}
  },
  "language_info": {
   "name": "python"
  }
 },
 "nbformat": 4,
 "nbformat_minor": 0
}
