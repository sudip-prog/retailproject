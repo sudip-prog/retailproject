{
 "cells": [
  {
   "cell_type": "code",
   "execution_count": 0,
   "metadata": {
    "application/vnd.databricks.v1+cell": {
     "cellMetadata": {
      "byteLimit": 2048000,
      "rowLimit": 10000
     },
     "inputWidgets": {},
     "nuid": "618d1304-5780-4ff2-962a-6160b0ee98b5",
     "showTitle": false,
     "tableResultSettingsMap": {},
     "title": ""
    }
   },
   "outputs": [],
   "source": [
    "CREATE CATALOG IF NOT EXISTS retail_catalog;\n",
    "CREATE SCHEMA IF NOT EXISTS retail_catalog.bronze_schema;"
   ]
  },
  {
   "cell_type": "code",
   "execution_count": 0,
   "metadata": {
    "application/vnd.databricks.v1+cell": {
     "cellMetadata": {},
     "inputWidgets": {},
     "nuid": "a3b32f78-9b3e-45a7-b4c0-a2238719aa17",
     "showTitle": false,
     "tableResultSettingsMap": {},
     "title": ""
    }
   },
   "outputs": [],
   "source": [
    "CREATE TABLE IF NOT EXISTS retail_catalog.bronze_schema.customers_bronze\n",
    "USING DELTA\n",
    "LOCATION 'abfss://retailstream360@storageaccountsudip1.dfs.core.windows.net/bronze/customers';\n",
    "\n",
    "CREATE TABLE IF NOT EXISTS retail_catalog.bronze_schema.products_bronze\n",
    "USING DELTA\n",
    "LOCATION 'abfss://bronze@<account>.dfs.core.windows.net/retail/bronze/products/';\n",
    "\n",
    "CREATE TABLE IF NOT EXISTS retail_catalog.bronze_schema.orders_bronze\n",
    "USING DELTA\n",
    "LOCATION 'abfss://bronze@<account>.dfs.core.windows.net/retail/bronze/orders/';\n",
    "\n",
    "CREATE TABLE IF NOT EXISTS retail_catalog.bronze_schema.transactions_bronze\n",
    "USING DELTA\n",
    "LOCATION 'abfss://bronze@<account>.dfs.core.windows.net/retail/bronze/transactions/';\n"
   ]
  },
  {
   "cell_type": "code",
   "execution_count": 0,
   "metadata": {
    "application/vnd.databricks.v1+cell": {
     "cellMetadata": {
      "byteLimit": 2048000,
      "rowLimit": 10000
     },
     "inputWidgets": {},
     "nuid": "41d2fe5b-d651-4d90-bfb5-6586192abcef",
     "showTitle": false,
     "tableResultSettingsMap": {},
     "title": ""
    }
   },
   "outputs": [],
   "source": [
    "%python\n",
    "#checkpoint_path = f\"{checkpoint_base_path}/{table_name}\"\n",
    "checkpoint_path = \"abfss://retailstream360@storageaccountsudip1.dfs.core.windows.net/bronze/checkpoints/customers/\"\n",
    "file_format = \"csv\"\n",
    "raw_path = \"abfss://retailstream360@storageaccountsudip1.dfs.core.windows.net/raw/customers/\"\n",
    "\n",
    "from pyspark.sql.functions import current_timestamp, input_file_name\n",
    "\n",
    "#bronze_path = f\"{bronze_base_path}/{table_name}\"\n",
    "bronze_path = \"abfss://retailstream360@storageaccountsudip1.dfs.core.windows.net/bronze/customers\"\n"
   ]
  },
  {
   "cell_type": "code",
   "execution_count": 0,
   "metadata": {
    "application/vnd.databricks.v1+cell": {
     "cellMetadata": {
      "byteLimit": 2048000,
      "rowLimit": 10000
     },
     "inputWidgets": {},
     "nuid": "c740f38e-0208-4aef-9a11-16dfc468c656",
     "showTitle": false,
     "tableResultSettingsMap": {},
     "title": ""
    }
   },
   "outputs": [],
   "source": [
    "%python\n",
    "\n",
    "df = (\n",
    "        spark.readStream\n",
    "        .format(\"cloudFiles\")\n",
    "        .option(\"cloudFiles.format\", file_format)\n",
    "        .option(\"cloudFiles.schemaLocation\", checkpoint_path + \"/schema\")\n",
    "        .option(\"cloudFiles.inferColumnTypes\", \"true\")\n",
    "        .load(raw_path)\n",
    "        .withColumn(\"_ingest_time\", current_timestamp())\n",
    "        .withColumn(\"_source_file\", input_file_name())\n",
    "        .writeStream\n",
    "        .format(\"delta\")\n",
    "        .option(\"checkpointLocation\", checkpoint_path)\n",
    "        .outputMode(\"append\")\n",
    "        .trigger(availableNow=True)\n",
    "        .start(bronze_path)\n",
    "    )\n",
    "#df.stop()"
   ]
  }
 ],
 "metadata": {
  "application/vnd.databricks.v1+notebook": {
   "computePreferences": null,
   "dashboards": [],
   "environmentMetadata": {
    "base_environment": "",
    "environment_version": "2"
   },
   "inputWidgetPreferences": null,
   "language": "sql",
   "notebookMetadata": {
    "pythonIndentUnit": 4
   },
   "notebookName": "Untitled Notebook 2025-07-26 20_47_53",
   "widgets": {}
  },
  "language_info": {
   "name": "sql"
  }
 },
 "nbformat": 4,
 "nbformat_minor": 0
}
